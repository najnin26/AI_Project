{
 "cells": [
  {
   "cell_type": "markdown",
   "id": "8b4972c7",
   "metadata": {},
   "source": [
    "# **Loading tools and dataset**"
   ]
  },
  {
   "cell_type": "code",
   "execution_count": 25,
   "id": "bea8cd27",
   "metadata": {},
   "outputs": [],
   "source": [
    "from tensorflow.keras import layers\n",
    "from tensorflow import keras\n",
    "import tensorflow as tf\n",
    "from sklearn.model_selection import train_test_split\n",
    "import matplotlib.pyplot as plt\n",
    "import pandas as pd\n",
    "\n",
    "from ast import literal_eval\n",
    "\n",
    "import numpy as np"
   ]
  },
  {
   "cell_type": "code",
   "execution_count": 26,
   "id": "0be3d3e6",
   "metadata": {},
   "outputs": [],
   "source": [
    "arxiv_data=pd.read_csv('arxiv_data_210930-054931.csv')"
   ]
  },
  {
   "cell_type": "code",
   "execution_count": 27,
   "id": "0244c3c6",
   "metadata": {},
   "outputs": [
    {
     "data": {
      "text/html": [
       "<div>\n",
       "<style scoped>\n",
       "    .dataframe tbody tr th:only-of-type {\n",
       "        vertical-align: middle;\n",
       "    }\n",
       "\n",
       "    .dataframe tbody tr th {\n",
       "        vertical-align: top;\n",
       "    }\n",
       "\n",
       "    .dataframe thead th {\n",
       "        text-align: right;\n",
       "    }\n",
       "</style>\n",
       "<table border=\"1\" class=\"dataframe\">\n",
       "  <thead>\n",
       "    <tr style=\"text-align: right;\">\n",
       "      <th></th>\n",
       "      <th>terms</th>\n",
       "      <th>titles</th>\n",
       "      <th>abstracts</th>\n",
       "    </tr>\n",
       "  </thead>\n",
       "  <tbody>\n",
       "    <tr>\n",
       "      <th>0</th>\n",
       "      <td>['cs.LG']</td>\n",
       "      <td>Multi-Level Attention Pooling for Graph Neural...</td>\n",
       "      <td>Graph neural networks (GNNs) have been widely ...</td>\n",
       "    </tr>\n",
       "    <tr>\n",
       "      <th>1</th>\n",
       "      <td>['cs.LG', 'cs.AI']</td>\n",
       "      <td>Decision Forests vs. Deep Networks: Conceptual...</td>\n",
       "      <td>Deep networks and decision forests (such as ra...</td>\n",
       "    </tr>\n",
       "    <tr>\n",
       "      <th>2</th>\n",
       "      <td>['cs.LG', 'cs.CR', 'stat.ML']</td>\n",
       "      <td>Power up! Robust Graph Convolutional Network v...</td>\n",
       "      <td>Graph convolutional networks (GCNs) are powerf...</td>\n",
       "    </tr>\n",
       "    <tr>\n",
       "      <th>3</th>\n",
       "      <td>['cs.LG', 'cs.CR']</td>\n",
       "      <td>Releasing Graph Neural Networks with Different...</td>\n",
       "      <td>With the increasing popularity of Graph Neural...</td>\n",
       "    </tr>\n",
       "    <tr>\n",
       "      <th>4</th>\n",
       "      <td>['cs.LG']</td>\n",
       "      <td>Recurrence-Aware Long-Term Cognitive Network f...</td>\n",
       "      <td>Machine learning solutions for pattern classif...</td>\n",
       "    </tr>\n",
       "  </tbody>\n",
       "</table>\n",
       "</div>"
      ],
      "text/plain": [
       "                           terms  \\\n",
       "0                      ['cs.LG']   \n",
       "1             ['cs.LG', 'cs.AI']   \n",
       "2  ['cs.LG', 'cs.CR', 'stat.ML']   \n",
       "3             ['cs.LG', 'cs.CR']   \n",
       "4                      ['cs.LG']   \n",
       "\n",
       "                                              titles  \\\n",
       "0  Multi-Level Attention Pooling for Graph Neural...   \n",
       "1  Decision Forests vs. Deep Networks: Conceptual...   \n",
       "2  Power up! Robust Graph Convolutional Network v...   \n",
       "3  Releasing Graph Neural Networks with Different...   \n",
       "4  Recurrence-Aware Long-Term Cognitive Network f...   \n",
       "\n",
       "                                           abstracts  \n",
       "0  Graph neural networks (GNNs) have been widely ...  \n",
       "1  Deep networks and decision forests (such as ra...  \n",
       "2  Graph convolutional networks (GCNs) are powerf...  \n",
       "3  With the increasing popularity of Graph Neural...  \n",
       "4  Machine learning solutions for pattern classif...  "
      ]
     },
     "execution_count": 27,
     "metadata": {},
     "output_type": "execute_result"
    }
   ],
   "source": [
    "arxiv_data.head()"
   ]
  },
  {
   "cell_type": "markdown",
   "id": "a74d0b25",
   "metadata": {},
   "source": [
    "# **Data Cleaning and Preprocessing**"
   ]
  },
  {
   "cell_type": "code",
   "execution_count": 28,
   "id": "9a81cf17",
   "metadata": {},
   "outputs": [
    {
     "data": {
      "text/plain": [
       "(56181, 3)"
      ]
     },
     "execution_count": 28,
     "metadata": {},
     "output_type": "execute_result"
    }
   ],
   "source": [
    "arxiv_data.shape"
   ]
  },
  {
   "cell_type": "code",
   "execution_count": 29,
   "id": "30bf0c5b",
   "metadata": {},
   "outputs": [
    {
     "data": {
      "text/plain": [
       "terms        0\n",
       "titles       0\n",
       "abstracts    0\n",
       "dtype: int64"
      ]
     },
     "execution_count": 29,
     "metadata": {},
     "output_type": "execute_result"
    }
   ],
   "source": [
    "arxiv_data.isnull().sum()"
   ]
  },
  {
   "cell_type": "code",
   "execution_count": 30,
   "id": "24b3cfdb",
   "metadata": {},
   "outputs": [
    {
     "data": {
      "text/html": [
       "<div>\n",
       "<style scoped>\n",
       "    .dataframe tbody tr th:only-of-type {\n",
       "        vertical-align: middle;\n",
       "    }\n",
       "\n",
       "    .dataframe tbody tr th {\n",
       "        vertical-align: top;\n",
       "    }\n",
       "\n",
       "    .dataframe thead th {\n",
       "        text-align: right;\n",
       "    }\n",
       "</style>\n",
       "<table border=\"1\" class=\"dataframe\">\n",
       "  <thead>\n",
       "    <tr style=\"text-align: right;\">\n",
       "      <th></th>\n",
       "      <th>terms</th>\n",
       "      <th>titles</th>\n",
       "      <th>abstracts</th>\n",
       "    </tr>\n",
       "  </thead>\n",
       "  <tbody>\n",
       "    <tr>\n",
       "      <th>0</th>\n",
       "      <td>['cs.LG']</td>\n",
       "      <td>Multi-Level Attention Pooling for Graph Neural...</td>\n",
       "      <td>Graph neural networks (GNNs) have been widely ...</td>\n",
       "    </tr>\n",
       "    <tr>\n",
       "      <th>1</th>\n",
       "      <td>['cs.LG', 'cs.AI']</td>\n",
       "      <td>Decision Forests vs. Deep Networks: Conceptual...</td>\n",
       "      <td>Deep networks and decision forests (such as ra...</td>\n",
       "    </tr>\n",
       "    <tr>\n",
       "      <th>2</th>\n",
       "      <td>['cs.LG', 'cs.CR', 'stat.ML']</td>\n",
       "      <td>Power up! Robust Graph Convolutional Network v...</td>\n",
       "      <td>Graph convolutional networks (GCNs) are powerf...</td>\n",
       "    </tr>\n",
       "    <tr>\n",
       "      <th>3</th>\n",
       "      <td>['cs.LG', 'cs.CR']</td>\n",
       "      <td>Releasing Graph Neural Networks with Different...</td>\n",
       "      <td>With the increasing popularity of Graph Neural...</td>\n",
       "    </tr>\n",
       "    <tr>\n",
       "      <th>4</th>\n",
       "      <td>['cs.LG']</td>\n",
       "      <td>Recurrence-Aware Long-Term Cognitive Network f...</td>\n",
       "      <td>Machine learning solutions for pattern classif...</td>\n",
       "    </tr>\n",
       "    <tr>\n",
       "      <th>...</th>\n",
       "      <td>...</td>\n",
       "      <td>...</td>\n",
       "      <td>...</td>\n",
       "    </tr>\n",
       "    <tr>\n",
       "      <th>56176</th>\n",
       "      <td>['cs.CV', 'cs.IR']</td>\n",
       "      <td>Mining Spatio-temporal Data on Industrializati...</td>\n",
       "      <td>Despite the growing availability of big data i...</td>\n",
       "    </tr>\n",
       "    <tr>\n",
       "      <th>56177</th>\n",
       "      <td>['cs.LG', 'cs.AI', 'cs.CL', 'I.2.6; I.2.7']</td>\n",
       "      <td>Wav2Letter: an End-to-End ConvNet-based Speech...</td>\n",
       "      <td>This paper presents a simple end-to-end model ...</td>\n",
       "    </tr>\n",
       "    <tr>\n",
       "      <th>56178</th>\n",
       "      <td>['cs.LG']</td>\n",
       "      <td>Deep Reinforcement Learning with Double Q-lear...</td>\n",
       "      <td>The popular Q-learning algorithm is known to o...</td>\n",
       "    </tr>\n",
       "    <tr>\n",
       "      <th>56179</th>\n",
       "      <td>['stat.ML', 'cs.LG', 'math.OC']</td>\n",
       "      <td>Generalized Low Rank Models</td>\n",
       "      <td>Principal components analysis (PCA) is a well-...</td>\n",
       "    </tr>\n",
       "    <tr>\n",
       "      <th>56180</th>\n",
       "      <td>['cs.LG', 'cs.AI', 'stat.ML']</td>\n",
       "      <td>Chi-square Tests Driven Method for Learning th...</td>\n",
       "      <td>SDYNA is a general framework designed to addre...</td>\n",
       "    </tr>\n",
       "  </tbody>\n",
       "</table>\n",
       "<p>56181 rows × 3 columns</p>\n",
       "</div>"
      ],
      "text/plain": [
       "                                             terms  \\\n",
       "0                                        ['cs.LG']   \n",
       "1                               ['cs.LG', 'cs.AI']   \n",
       "2                    ['cs.LG', 'cs.CR', 'stat.ML']   \n",
       "3                               ['cs.LG', 'cs.CR']   \n",
       "4                                        ['cs.LG']   \n",
       "...                                            ...   \n",
       "56176                           ['cs.CV', 'cs.IR']   \n",
       "56177  ['cs.LG', 'cs.AI', 'cs.CL', 'I.2.6; I.2.7']   \n",
       "56178                                    ['cs.LG']   \n",
       "56179              ['stat.ML', 'cs.LG', 'math.OC']   \n",
       "56180                ['cs.LG', 'cs.AI', 'stat.ML']   \n",
       "\n",
       "                                                  titles  \\\n",
       "0      Multi-Level Attention Pooling for Graph Neural...   \n",
       "1      Decision Forests vs. Deep Networks: Conceptual...   \n",
       "2      Power up! Robust Graph Convolutional Network v...   \n",
       "3      Releasing Graph Neural Networks with Different...   \n",
       "4      Recurrence-Aware Long-Term Cognitive Network f...   \n",
       "...                                                  ...   \n",
       "56176  Mining Spatio-temporal Data on Industrializati...   \n",
       "56177  Wav2Letter: an End-to-End ConvNet-based Speech...   \n",
       "56178  Deep Reinforcement Learning with Double Q-lear...   \n",
       "56179                        Generalized Low Rank Models   \n",
       "56180  Chi-square Tests Driven Method for Learning th...   \n",
       "\n",
       "                                               abstracts  \n",
       "0      Graph neural networks (GNNs) have been widely ...  \n",
       "1      Deep networks and decision forests (such as ra...  \n",
       "2      Graph convolutional networks (GCNs) are powerf...  \n",
       "3      With the increasing popularity of Graph Neural...  \n",
       "4      Machine learning solutions for pattern classif...  \n",
       "...                                                  ...  \n",
       "56176  Despite the growing availability of big data i...  \n",
       "56177  This paper presents a simple end-to-end model ...  \n",
       "56178  The popular Q-learning algorithm is known to o...  \n",
       "56179  Principal components analysis (PCA) is a well-...  \n",
       "56180  SDYNA is a general framework designed to addre...  \n",
       "\n",
       "[56181 rows x 3 columns]"
      ]
     },
     "execution_count": 30,
     "metadata": {},
     "output_type": "execute_result"
    }
   ],
   "source": [
    "arxiv_data"
   ]
  },
  {
   "cell_type": "markdown",
   "id": "9793536f",
   "metadata": {},
   "source": [
    "# **Data Cleaning and Preprocessing**"
   ]
  },
  {
   "cell_type": "code",
   "execution_count": 31,
   "id": "916611d1",
   "metadata": {},
   "outputs": [
    {
     "data": {
      "text/plain": [
       "(56181, 3)"
      ]
     },
     "execution_count": 31,
     "metadata": {},
     "output_type": "execute_result"
    }
   ],
   "source": [
    "arxiv_data.shape"
   ]
  },
  {
   "cell_type": "code",
   "execution_count": 32,
   "id": "f26f2c2f",
   "metadata": {},
   "outputs": [
    {
     "data": {
      "text/plain": [
       "terms        0\n",
       "titles       0\n",
       "abstracts    0\n",
       "dtype: int64"
      ]
     },
     "execution_count": 32,
     "metadata": {},
     "output_type": "execute_result"
    }
   ],
   "source": [
    "arxiv_data.isnull().sum()"
   ]
  },
  {
   "cell_type": "code",
   "execution_count": 33,
   "id": "4ec439c2",
   "metadata": {},
   "outputs": [
    {
     "data": {
      "text/plain": [
       "15054"
      ]
     },
     "execution_count": 33,
     "metadata": {},
     "output_type": "execute_result"
    }
   ],
   "source": [
    "arxiv_data.duplicated().sum()"
   ]
  },
  {
   "cell_type": "code",
   "execution_count": 34,
   "id": "547e3c92",
   "metadata": {},
   "outputs": [
    {
     "data": {
      "text/plain": [
       "0                                          ['cs.LG']\n",
       "1                                 ['cs.LG', 'cs.AI']\n",
       "2                      ['cs.LG', 'cs.CR', 'stat.ML']\n",
       "3                                 ['cs.LG', 'cs.CR']\n",
       "4                                          ['cs.LG']\n",
       "                            ...                     \n",
       "56176                             ['cs.CV', 'cs.IR']\n",
       "56177    ['cs.LG', 'cs.AI', 'cs.CL', 'I.2.6; I.2.7']\n",
       "56178                                      ['cs.LG']\n",
       "56179                ['stat.ML', 'cs.LG', 'math.OC']\n",
       "56180                  ['cs.LG', 'cs.AI', 'stat.ML']\n",
       "Name: terms, Length: 56181, dtype: object"
      ]
     },
     "execution_count": 34,
     "metadata": {},
     "output_type": "execute_result"
    }
   ],
   "source": [
    "arxiv_data['terms']"
   ]
  },
  {
   "cell_type": "code",
   "execution_count": 35,
   "id": "6e153f8e",
   "metadata": {},
   "outputs": [
    {
     "name": "stdout",
     "output_type": "stream",
     "text": [
      "labels : ['cs.LG' 'cs.AI' 'cs.CR' ... 'D.1.3; G.4; I.2.8; I.2.11; I.5.3; J.3'\n",
      " '68T07, 68T45, 68T10, 68T50, 68U35' 'I.2.0; G.3']\n",
      "lenght : 1177\n"
     ]
    }
   ],
   "source": [
    "# getting unique labels\n",
    "labels_column = arxiv_data['terms'].apply(literal_eval)\n",
    "labels = labels_column.explode().unique()\n",
    "print(\"labels :\",labels)\n",
    "print(\"lenght :\",len(labels))"
   ]
  },
  {
   "cell_type": "code",
   "execution_count": 36,
   "id": "ee54d7a2",
   "metadata": {},
   "outputs": [
    {
     "name": "stdout",
     "output_type": "stream",
     "text": [
      "There are 41105 rows in the deduplicated dataset.\n",
      "2503\n",
      "3401\n"
     ]
    }
   ],
   "source": [
    "# remove duplicate entries based on the \"titles\" (terms) column\n",
    "# This filters the DataFrame, keeping only the rows where the titles are not duplicated.\n",
    "arxiv_data = arxiv_data[~arxiv_data['titles'].duplicated()]\n",
    "print(f\"There are {len(arxiv_data)} rows in the deduplicated dataset.\")\n",
    "# There are some terms with occurrence as low as 1.\n",
    "print(sum(arxiv_data['terms'].value_counts()==1))\n",
    "# how many unique terms\n",
    "print(arxiv_data['terms'].nunique())"
   ]
  },
  {
   "cell_type": "code",
   "execution_count": 37,
   "id": "f8ce112a",
   "metadata": {},
   "outputs": [
    {
     "data": {
      "text/plain": [
       "(38602, 3)"
      ]
     },
     "execution_count": 37,
     "metadata": {},
     "output_type": "execute_result"
    }
   ],
   "source": [
    "# Filtering the rare terms. (it keeps only those rows where the \"terms\" value occurs more than once in the original DataFrame.)\n",
    "arxiv_data_filtered = arxiv_data.groupby('terms').filter(lambda x: len(x) > 1)\n",
    "arxiv_data_filtered.shape"
   ]
  },
  {
   "cell_type": "code",
   "execution_count": 38,
   "id": "8e8d90cc",
   "metadata": {},
   "outputs": [
    {
     "data": {
      "text/plain": [
       "array([list(['cs.LG']), list(['cs.LG', 'cs.AI']),\n",
       "       list(['cs.LG', 'cs.CR', 'stat.ML'])], dtype=object)"
      ]
     },
     "execution_count": 38,
     "metadata": {},
     "output_type": "execute_result"
    }
   ],
   "source": [
    "# It evaluates the given string containing a Python literal or container display (e.g., a list or dictionary) and returns the corresponding Python object.\n",
    "arxiv_data_filtered['terms'] = arxiv_data_filtered['terms'].apply(lambda x: literal_eval(x))\n",
    "arxiv_data_filtered['terms'].values[:3]"
   ]
  },
  {
   "cell_type": "markdown",
   "id": "984cbfb4",
   "metadata": {},
   "source": [
    "# **train and test split.**"
   ]
  },
  {
   "cell_type": "code",
   "execution_count": 39,
   "id": "ade1640e",
   "metadata": {},
   "outputs": [
    {
     "name": "stdout",
     "output_type": "stream",
     "text": [
      "Number of rows in training set: 34741\n",
      "Number of rows in validation set: 1930\n",
      "Number of rows in test set: 1931\n"
     ]
    }
   ],
   "source": [
    "test_split = 0.1\n",
    "\n",
    "# Initial train and test split.\n",
    "# The stratify parameter ensures that the splitting is done in a way that preserves the same distribution of labels (terms) in both the training and test sets.\n",
    "train_df, test_df = train_test_split(arxiv_data_filtered,test_size=test_split,stratify=arxiv_data_filtered[\"terms\"].values,)\n",
    "\n",
    "# Splitting the test set further into validation\n",
    "# and new test sets.\n",
    "val_df = test_df.sample(frac=0.5)\n",
    "test_df.drop(val_df.index, inplace=True)\n",
    "\n",
    "print(f\"Number of rows in training set: {len(train_df)}\")\n",
    "print(f\"Number of rows in validation set: {len(val_df)}\")\n",
    "print(f\"Number of rows in test set: {len(test_df)}\")"
   ]
  },
  {
   "cell_type": "code",
   "execution_count": 40,
   "id": "a8d7e94a",
   "metadata": {},
   "outputs": [
    {
     "name": "stdout",
     "output_type": "stream",
     "text": [
      "WARNING:tensorflow:From C:\\Users\\ASUS\\anaconda3\\Lib\\site-packages\\keras\\src\\backend.py:873: The name tf.get_default_graph is deprecated. Please use tf.compat.v1.get_default_graph instead.\n",
      "\n",
      "WARNING:tensorflow:From C:\\Users\\ASUS\\anaconda3\\Lib\\site-packages\\keras\\src\\utils\\tf_utils.py:492: The name tf.ragged.RaggedTensorValue is deprecated. Please use tf.compat.v1.ragged.RaggedTensorValue instead.\n",
      "\n",
      "Vocabulary:\n",
      "\n",
      "['[UNK]', 'cs.CV', 'cs.LG', 'stat.ML', 'cs.AI', 'eess.IV', 'cs.RO', 'cs.CL', 'cs.NE', 'cs.GR', 'cs.CR', 'math.OC', 'eess.SP', 'cs.SI', 'cs.MM', 'cs.SY', 'cs.IR', 'eess.SY', 'cs.MA', 'cs.HC', 'math.IT', 'cs.IT', 'cs.DC', 'stat.AP', 'cs.CY', 'stat.ME', 'stat.TH', 'math.ST', 'eess.AS', 'cs.SD', 'cs.DS', 'q-bio.QM', 'q-bio.NC', 'cs.CG', 'stat.CO', 'cs.GT', 'cs.NI', 'math.NA', 'cs.SE', 'I.2.6', 'cs.NA', 'physics.chem-ph', 'cs.DB', 'physics.comp-ph', 'cond-mat.dis-nn', 'q-bio.BM', 'cs.PL', 'math.PR', 'cs.LO', '68T45', 'cs.AR', 'physics.data-an', 'quant-ph', 'I.2.10', 'cs.CE', 'cond-mat.stat-mech', 'q-fin.ST', 'I.4.6', 'physics.ao-ph', 'math.DS', 'cs.CC', '68T05', 'physics.soc-ph', 'physics.med-ph', 'cs.PF', 'econ.EM', 'cs.DM', 'I.4.8', 'q-bio.GN', 'astro-ph.IM', 'physics.geo-ph', 'physics.flu-dyn', 'math.AT', 'hep-ex', 'cs.FL', 'I.4', '68U10', 'q-fin.TR', 'I.5.4', 'I.2', 'cond-mat.mtrl-sci', 'I.4.9', '68T10', 'q-fin.CP', 'physics.optics', 'I.4; I.5', '68T07', 'math.CO', 'math.AP', 'I.2.6; I.2.8', 'I.2.10; I.4; I.5', '65D19', 'q-bio.PE', 'physics.app-ph', 'nlin.CD', 'cs.MS', 'I.4.5', 'I.2.6; I.5.1', 'I.2.0; I.2.6', '68U01', '68T01', 'hep-ph', 'cs.SC', 'cs.ET', 'K.3.2', 'I.2.8', '68T30', 'q-fin.GN', 'q-fin.EC', 'q-bio.MN', 'econ.GN', 'I.4.9; I.5.4', 'I.4.0', 'I.2; I.5', 'I.2; I.4; I.5', 'I.2.6; I.2.7', 'I.2.10; I.4.8', '68T99', '68Q32', '68', '62H30', 'q-fin.RM', 'q-fin.PM', 'q-bio.TO', 'q-bio.OT', 'physics.plasm-ph', 'physics.class-ph', 'physics.bio-ph', 'nlin.AO', 'math.SP', 'math.MP', 'math.LO', 'math.FA', 'math-ph', 'cs.DL', 'cond-mat.soft', 'I.5.2', 'I.4.6; I.4.8', 'I.4.4', 'I.4.3', 'I.4.1', 'I.3.7', 'I.2; J.2', 'I.2; I.2.6; I.2.7', 'I.2.7', 'I.2.6; I.5.4', 'I.2.6; I.2.9', 'I.2.6; I.2.7; H.3.1; H.3.3', 'I.2.6; I.2.10', 'I.2.6, I.5.4', 'I.2.1; J.3', 'I.2.10; I.5.1; I.4.8', 'I.2.10; I.4.8; I.5.4', 'I.2.10; I.2.6', 'I.2.1', 'H.3.1; I.2.6; I.2.7', 'H.3.1; H.3.3; I.2.6; I.2.7', 'G.3', 'F.2.2; I.2.7', 'E.5; E.4; E.2; H.1.1; F.1.1; F.1.3', '68Txx', '62H99', '62H35', '60L10, 60L20', '14J60 (Primary) 14F05, 14J26 (Secondary)']\n"
     ]
    }
   ],
   "source": [
    "# creates a TensorFlow RaggedTensor (terms) from the values in the \"terms\" column of the train_df DataFrame. A RaggedTensor is a tensor with non-uniform shapes\n",
    "terms = tf.ragged.constant(train_df['terms'].values)\n",
    "# This line creates a StringLookup layer in TensorFlow. The purpose of this layer is to map strings to integer indices and vice versa. The output_mode=\"multi_hot\" indicates that the layer will output a multi-hot encoded representation of the input strings.\n",
    "lookup = tf.keras.layers.StringLookup(output_mode='multi_hot')\n",
    "# This step adapts the StringLookup layer to the unique values in the \"terms\" column, building the vocabulary.\n",
    "lookup.adapt(terms)\n",
    "# retrieve vocabulary\n",
    "vocab = lookup.get_vocabulary()\n",
    "\n",
    "print(\"Vocabulary:\\n\")\n",
    "print(vocab)"
   ]
  },
  {
   "cell_type": "code",
   "execution_count": 41,
   "id": "6912fe82",
   "metadata": {},
   "outputs": [
    {
     "name": "stdout",
     "output_type": "stream",
     "text": [
      "Original label: ['cs.LG', 'stat.ML']\n",
      "Label-binarized representation: [[0. 0. 1. 1. 0. 0. 0. 0. 0. 0. 0. 0. 0. 0. 0. 0. 0. 0. 0. 0. 0. 0. 0. 0.\n",
      "  0. 0. 0. 0. 0. 0. 0. 0. 0. 0. 0. 0. 0. 0. 0. 0. 0. 0. 0. 0. 0. 0. 0. 0.\n",
      "  0. 0. 0. 0. 0. 0. 0. 0. 0. 0. 0. 0. 0. 0. 0. 0. 0. 0. 0. 0. 0. 0. 0. 0.\n",
      "  0. 0. 0. 0. 0. 0. 0. 0. 0. 0. 0. 0. 0. 0. 0. 0. 0. 0. 0. 0. 0. 0. 0. 0.\n",
      "  0. 0. 0. 0. 0. 0. 0. 0. 0. 0. 0. 0. 0. 0. 0. 0. 0. 0. 0. 0. 0. 0. 0. 0.\n",
      "  0. 0. 0. 0. 0. 0. 0. 0. 0. 0. 0. 0. 0. 0. 0. 0. 0. 0. 0. 0. 0. 0. 0. 0.\n",
      "  0. 0. 0. 0. 0. 0. 0. 0. 0. 0. 0. 0. 0. 0. 0. 0. 0. 0. 0. 0. 0.]]\n"
     ]
    }
   ],
   "source": [
    "sample_label = train_df[\"terms\"].iloc[0]\n",
    "print(f\"Original label: {sample_label}\")\n",
    "\n",
    "label_binarized = lookup([sample_label])\n",
    "print(f\"Label-binarized representation: {label_binarized}\")"
   ]
  },
  {
   "cell_type": "code",
   "execution_count": 42,
   "id": "a1653b5a",
   "metadata": {},
   "outputs": [],
   "source": [
    "#max_seqlen: Maximum sequence length. It indicates the maximum length allowed for sequences.\n",
    "max_seqlen = 150\n",
    "#batch_size: Batch size. It specifies the number of samples to use in each iteration.\n",
    "batch_size = 128\n",
    "#padding_token: A token used for padding sequences.\n",
    "padding_token = \"<pad>\"\n",
    "#auto = tf.data.AUTOTUNE: auto is assigned the value tf.data.AUTOTUNE,\n",
    "auto = tf.data.AUTOTUNE\n",
    "\n",
    "def make_dataset(dataframe, is_train=True):\n",
    "    # creating sequences of labesls\n",
    "    labels = tf.ragged.constant(dataframe[\"terms\"].values)\n",
    "    #This line uses the previously defined lookup layer to convert the ragged tensor of labels into a binarized representation. The resulting label_binarized is a NumPy array.\n",
    "    label_binarized = lookup(labels).numpy()\n",
    "    # creating sequences of text.\n",
    "    dataset = tf.data.Dataset.from_tensor_slices((dataframe[\"abstracts\"].values, label_binarized))\n",
    "    # shuffling data basis on condition\n",
    "    dataset = dataset.shuffle(batch_size * 10) if is_train else dataset\n",
    "    return dataset.batch(batch_size)"
   ]
  },
  {
   "cell_type": "code",
   "execution_count": 43,
   "id": "c0437583",
   "metadata": {},
   "outputs": [],
   "source": [
    "train_dataset = make_dataset(train_df, is_train=True)\n",
    "validation_dataset = make_dataset(val_df, is_train=False)\n",
    "test_dataset = make_dataset(test_df, is_train=False)"
   ]
  },
  {
   "cell_type": "code",
   "execution_count": 44,
   "id": "4ad1bac8",
   "metadata": {},
   "outputs": [],
   "source": [
    "def decode_multi_hot(label, vocab):\n",
    "    decoded_labels = [vocab[i] for i, val in enumerate(label) if val == 1]\n",
    "    return decoded_labels"
   ]
  },
  {
   "cell_type": "code",
   "execution_count": 45,
   "id": "4a51280b",
   "metadata": {},
   "outputs": [
    {
     "name": "stdout",
     "output_type": "stream",
     "text": [
      "Abstract: b'Most methods for time series classification that attain state-of-the-art\\r\\naccuracy have high computational complexity, requiring significant training\\r\\ntime even for smaller datasets, and are intractable for larger datasets.\\r\\nAdditionally, many existing methods focus on a single type of feature such as\\r\\nshape or frequency. Building on the recent success of convolutional neural\\r\\nnetworks for time series classification, we show that simple linear classifiers\\r\\nusing random convolutional kernels achieve state-of-the-art accuracy with a\\r\\nfraction of the computational expense of existing methods.'\n",
      "Label(s): ['cs.LG', 'stat.ML']\n",
      " \n",
      "Abstract: b'With current development universally in computing, now a days user\\r\\ninteraction approaches with mouse, keyboard, touch-pens etc. are not\\r\\nsufficient. Directly using of hands or hand gestures as an input device is a\\r\\nmethod to attract people with providing the applications, through Machine\\r\\nLearning and Computer Vision. Human-computer interaction application in which\\r\\nyou can simply draw different shapes, fill the colors, moving the folder from\\r\\none place to another place and rotating your image with rotating your hand\\r\\ngesture all this will be without touching your device only. In this paper\\r\\nMachine Learning based hand gestures recognition is presented, with the use of\\r\\nComputer Vision different types of gesture applications have been created.'\n",
      "Label(s): ['cs.CV']\n",
      " \n",
      "Abstract: b'We address the problem of upsampling a low-resolution (LR) depth map using a\\r\\nregistered high-resolution (HR) color image of the same scene. Previous methods\\r\\nbased on convolutional neural networks (CNNs) combine nonlinear activations of\\r\\nspatially-invariant kernels to estimate structural details from LR depth and HR\\r\\ncolor images, and regress upsampling results directly from the networks. In\\r\\nthis paper, we revisit the weighted averaging process that has been widely used\\r\\nto transfer structural details from hand-crafted visual features to LR depth\\r\\nmaps. We instead learn explicitly sparse and spatially-variant kernels for this\\r\\ntask. To this end, we propose a CNN architecture and its efficient\\r\\nimplementation, called the deformable kernel network (DKN), that outputs sparse\\r\\nsets of neighbors and the corresponding weights adaptively for each pixel. We\\r\\nalso propose a fast version of DKN (FDKN) that runs about 17 times faster (0.01\\r\\nseconds for a HR image of size 640 x 480). Experimental results on standard\\r\\nbenchmarks demonstrate the effectiveness of our approach. In particular, we\\r\\nshow that the weighted averaging process with 3 x 3 kernels (i.e., aggregating\\r\\n9 samples sparsely chosen) outperforms the state of the art by a significant\\r\\nmargin.'\n",
      "Label(s): ['cs.CV']\n",
      " \n",
      "Abstract: b'To achieve peak predictive performance, hyperparameter optimization (HPO) is\\r\\na crucial component of machine learning and its applications. Over the last\\r\\nyears,the number of efficient algorithms and tools for HPO grew substantially.\\r\\nAt the same time, the community is still lacking realistic, diverse,\\r\\ncomputationally cheap,and standardized benchmarks. This is especially the case\\r\\nfor multi-fidelity HPO methods. To close this gap, we propose HPOBench, which\\r\\nincludes 7 existing and 5 new benchmark families, with in total more than 100\\r\\nmulti-fidelity benchmark problems. HPOBench allows to run this extendable set\\r\\nof multi-fidelity HPO benchmarks in a reproducible way by isolating and\\r\\npackaging the individual benchmarks in containers. It also provides surrogate\\r\\nand tabular benchmarks for computationally affordable yet statistically sound\\r\\nevaluations. To demonstrate the broad compatibility of HPOBench and its\\r\\nusefulness, we conduct an exemplary large-scale study evaluating 6 well known\\r\\nmulti-fidelity HPO tools.'\n",
      "Label(s): ['cs.LG']\n",
      " \n",
      "Abstract: b'In this paper, we propose a model protection method for convolutional neural\\r\\nnetworks (CNNs) with a secret key so that authorized users get a high\\r\\nclassification accuracy, and unauthorized users get a low classification\\r\\naccuracy. The proposed method applies a block-wise transformation with a secret\\r\\nkey to feature maps in the network. Conventional key-based model protection\\r\\nmethods cannot maintain a high accuracy when a large key space is selected. In\\r\\ncontrast, the proposed method not only maintains almost the same accuracy as\\r\\nnon-protected accuracy, but also has a larger key space. Experiments were\\r\\ncarried out on the CIFAR-10 dataset, and results show that the proposed model\\r\\nprotection method outperformed the previous key-based model protection methods\\r\\nin terms of classification accuracy, key space, and robustness against key\\r\\nestimation attacks and fine-tuning attacks.'\n",
      "Label(s): ['cs.CV']\n",
      " \n"
     ]
    }
   ],
   "source": [
    "# Assuming you have already defined the terms and vocab variables\n",
    "\n",
    "text_batch, label_batch = next(iter(train_dataset))\n",
    "\n",
    "for i, text in enumerate(text_batch[:5]):\n",
    "    label = label_batch[i].numpy()[None, ...]\n",
    "    print(f\"Abstract: {text}\")\n",
    "    decoded_labels = decode_multi_hot(label[0], vocab)\n",
    "    print(f\"Label(s): {decoded_labels}\")\n",
    "    print(\" \")"
   ]
  },
  {
   "cell_type": "code",
   "execution_count": 46,
   "id": "cec32f51",
   "metadata": {},
   "outputs": [
    {
     "name": "stdout",
     "output_type": "stream",
     "text": [
      "158967\n"
     ]
    }
   ],
   "source": [
    "# This code calculates the size of the vocabulary in the \"abstracts\" column of the train_df DataFrame.\n",
    "\n",
    "# Creating vocabulary with uniques words\n",
    "vocabulary = set()\n",
    "train_df[\"abstracts\"].str.lower().str.split().apply(vocabulary.update)\n",
    "vocabulary_size = len(vocabulary)\n",
    "print(vocabulary_size)"
   ]
  },
  {
   "cell_type": "markdown",
   "id": "f599fa3a",
   "metadata": {},
   "source": [
    "# **Text Vectorization**"
   ]
  },
  {
   "cell_type": "code",
   "execution_count": 47,
   "id": "ed2b9e0b",
   "metadata": {},
   "outputs": [],
   "source": [
    "text_vectorizer = layers.TextVectorization(max_tokens=vocabulary_size,ngrams=2,output_mode=\"tf_idf\")\n",
    "# `TextVectorization` layer needs to be adapted as per the vocabulary from our training set.\n",
    "text_vectorizer.adapt(train_dataset.map(lambda text, label: text))"
   ]
  },
  {
   "cell_type": "code",
   "execution_count": 48,
   "id": "23beccfb",
   "metadata": {},
   "outputs": [],
   "source": [
    "train_dataset = train_dataset.map(lambda text, label: (text_vectorizer(text), label), num_parallel_calls=auto).prefetch(auto)\n",
    "validation_dataset = validation_dataset.map(lambda text, label: (text_vectorizer(text), label), num_parallel_calls=auto).prefetch(auto)\n",
    "test_dataset = test_dataset.map(lambda text, label: (text_vectorizer(text), label), num_parallel_calls=auto).prefetch(auto)"
   ]
  },
  {
   "cell_type": "markdown",
   "id": "14ca23fa",
   "metadata": {},
   "source": [
    "# **model training**"
   ]
  },
  {
   "cell_type": "code",
   "execution_count": 49,
   "id": "8ad252aa",
   "metadata": {
    "scrolled": true
   },
   "outputs": [
    {
     "name": "stdout",
     "output_type": "stream",
     "text": [
      "WARNING:tensorflow:From C:\\Users\\ASUS\\anaconda3\\Lib\\site-packages\\keras\\src\\optimizers\\__init__.py:309: The name tf.train.Optimizer is deprecated. Please use tf.compat.v1.train.Optimizer instead.\n",
      "\n",
      "Epoch 1/20\n",
      "WARNING:tensorflow:From C:\\Users\\ASUS\\anaconda3\\Lib\\site-packages\\keras\\src\\engine\\base_layer_utils.py:384: The name tf.executing_eagerly_outside_functions is deprecated. Please use tf.compat.v1.executing_eagerly_outside_functions instead.\n",
      "\n",
      "272/272 [==============================] - 199s 724ms/step - loss: 0.0508 - binary_accuracy: 0.9821 - val_loss: 0.0177 - val_binary_accuracy: 0.9949\n",
      "Epoch 2/20\n",
      "272/272 [==============================] - 201s 737ms/step - loss: 0.0176 - binary_accuracy: 0.9950 - val_loss: 0.0176 - val_binary_accuracy: 0.9948\n",
      "Epoch 3/20\n",
      "272/272 [==============================] - 196s 721ms/step - loss: 0.0137 - binary_accuracy: 0.9959 - val_loss: 0.0181 - val_binary_accuracy: 0.9947\n",
      "Epoch 4/20\n",
      "272/272 [==============================] - 206s 756ms/step - loss: 0.0114 - binary_accuracy: 0.9966 - val_loss: 0.0187 - val_binary_accuracy: 0.9948\n",
      "Epoch 5/20\n",
      "272/272 [==============================] - 197s 724ms/step - loss: 0.0097 - binary_accuracy: 0.9971 - val_loss: 0.0189 - val_binary_accuracy: 0.9949\n",
      "Epoch 6/20\n",
      "272/272 [==============================] - 200s 735ms/step - loss: 0.0086 - binary_accuracy: 0.9975 - val_loss: 0.0194 - val_binary_accuracy: 0.9948\n",
      "Epoch 7/20\n",
      "272/272 [==============================] - 196s 721ms/step - loss: 0.0079 - binary_accuracy: 0.9977 - val_loss: 0.0195 - val_binary_accuracy: 0.9947\n"
     ]
    }
   ],
   "source": [
    "# creating shallow_mlp_model  (MLP)\n",
    "from tensorflow.keras.callbacks import EarlyStopping\n",
    "\n",
    "# Creating shallow_mlp_model (MLP) with dropout layers\n",
    "model1 = keras.Sequential([\n",
    "    # First hidden layer: 512 neurons, ReLU activation function, with dropout.\n",
    "    layers.Dense(512, activation=\"relu\"),\n",
    "    layers.Dropout(0.5),  # Adding dropout for regularization.\n",
    "\n",
    "    # Second hidden layer: 256 neurons, ReLU activation function, with dropout.\n",
    "    layers.Dense(256, activation=\"relu\"),\n",
    "    layers.Dropout(0.5),  # Adding dropout for regularization.\n",
    "\n",
    "    # Output layer: The number of neurons equals the vocabulary size (output vocabulary of the StringLookup layer), with a sigmoid activation function.\n",
    "    layers.Dense(lookup.vocabulary_size(), activation='sigmoid')\n",
    "])\n",
    "\n",
    "# Compile the model\n",
    "model1.compile(loss=\"binary_crossentropy\", optimizer='adam', metrics=['binary_accuracy'])\n",
    "\n",
    "# Add early stopping\n",
    "# Number of epochs with no improvement after which training will be stopped.\n",
    "# Restore weights from the epoch with the best value of the monitored quantity.\n",
    "early_stopping = EarlyStopping(patience=5,restore_best_weights=True)\n",
    "\n",
    "# Train the model\n",
    "# Add early stopping callback.verbose=1\n",
    "history = model1.fit(train_dataset,validation_data=validation_dataset,epochs=20,callbacks=[early_stopping])"
   ]
  },
  {
   "cell_type": "code",
   "execution_count": 50,
   "id": "f6040655",
   "metadata": {},
   "outputs": [
    {
     "data": {
      "image/png": "[encoded data removed]",
      "text/plain": [
       "<Figure size 640x480 with 1 Axes>"
      ]
     },
     "metadata": {},
     "output_type": "display_data"
    },
    {
     "data": {
      "image/png": "[encoded data removed]",
      "text/plain": [
       "<Figure size 640x480 with 1 Axes>"
      ]
     },
     "metadata": {},
     "output_type": "display_data"
    }
   ],
   "source": [
    "# plotting loss\n",
    "def plot_result(item):\n",
    "    plt.plot(history.history[item], label=item)\n",
    "    plt.plot(history.history[\"val_\" + item], label=\"val_\" + item)\n",
    "    plt.xlabel(\"Epochs\")\n",
    "    plt.ylabel(item)\n",
    "    plt.title(\"Train and Validation {} Over Epochs\".format(item), fontsize=14)\n",
    "    plt.legend()\n",
    "    plt.grid()\n",
    "    plt.show()\n",
    "\n",
    "\n",
    "plot_result(\"loss\")\n",
    "plot_result(\"binary_accuracy\")"
   ]
  },
  {
   "cell_type": "markdown",
   "id": "5c11a60b",
   "metadata": {},
   "source": [
    "# **Model Evaluation**"
   ]
  },
  {
   "cell_type": "code",
   "execution_count": 51,
   "id": "e06a0717",
   "metadata": {},
   "outputs": [
    {
     "name": "stdout",
     "output_type": "stream",
     "text": [
      "16/16 [==============================] - 2s 120ms/step - loss: 0.0184 - binary_accuracy: 0.9946\n",
      "16/16 [==============================] - 2s 119ms/step - loss: 0.0176 - binary_accuracy: 0.9948\n",
      "Categorical accuracy on the test set: 99.46%.\n",
      "Categorical accuracy on the validation set: 99.48%.\n"
     ]
    }
   ],
   "source": [
    "# model evaltuation on test and val dataset\n",
    "_, binary_acc1 = model1.evaluate(test_dataset)\n",
    "_, binary_acc2 = model1.evaluate(validation_dataset)\n",
    "\n",
    "print(f\"Categorical accuracy on the test set: {round(binary_acc1 * 100, 2)}%.\")\n",
    "print(f\"Categorical accuracy on the validation set: {round(binary_acc2 * 100, 2)}%.\")"
   ]
  },
  {
   "cell_type": "code",
   "execution_count": null,
   "id": "28137e7f",
   "metadata": {},
   "outputs": [],
   "source": []
  },
  {
   "cell_type": "markdown",
   "id": "a7540d3f",
   "metadata": {},
   "source": [
    "# **Save Model and Text Vectorizer:**"
   ]
  },
  {
   "cell_type": "code",
   "execution_count": 53,
   "id": "fb86a342",
   "metadata": {},
   "outputs": [],
   "source": [
    "import pickle\n",
    "# Save the model\n",
    "model1.save(\"Models/model.h5\")\n",
    "\n",
    "# Save the configuration of the text vectorizer\n",
    "saved_text_vectorizer_config = text_vectorizer.get_config()\n",
    "with open(\"Models/text_vectorizer_config.pkl\", \"wb\") as f:\n",
    "    pickle.dump(saved_text_vectorizer_config, f)\n",
    "\n",
    "\n",
    "# Save the vocabulary\n",
    "with open(\"Models/vocab.pkl\", \"wb\") as f:\n",
    "    pickle.dump(vocab, f)"
   ]
  },
  {
   "cell_type": "code",
   "execution_count": null,
   "id": "62f1c4b6",
   "metadata": {},
   "outputs": [],
   "source": []
  },
  {
   "cell_type": "markdown",
   "id": "4e9b1246",
   "metadata": {},
   "source": [
    "# **Load Model and Text Vectorizer:**"
   ]
  },
  {
   "cell_type": "code",
   "execution_count": 54,
   "id": "6a312faa",
   "metadata": {},
   "outputs": [],
   "source": [
    "from tensorflow import keras\n",
    "import pickle\n",
    "\n",
    "# Load the model\n",
    "loaded_model = keras.models.load_model(\"Models/model.h5\")\n",
    "\n",
    "from tensorflow.keras.layers import TextVectorization\n",
    "\n",
    "# Load the configuration of the text vectorizer\n",
    "with open(\"Models/text_vectorizer_config.pkl\", \"rb\") as f:\n",
    "    saved_text_vectorizer_config = pickle.load(f)\n",
    "\n"
   ]
  },
  {
   "cell_type": "code",
   "execution_count": 55,
   "id": "746c60b4",
   "metadata": {},
   "outputs": [],
   "source": [
    "\n",
    "# Create a new TextVectorization layer with the saved configuration\n",
    "loaded_text_vectorizer = TextVectorization.from_config(saved_text_vectorizer_config)\n",
    "\n",
    "# Load the saved weights into the new TextVectorization layer\n",
    "with open(\"Models/text_vectorizer_weights.pkl\", \"wb\") as f:\n",
    "    pickle.dump(loaded_text_vectorizer.get_weights(), f)"
   ]
  },
  {
   "cell_type": "code",
   "execution_count": 56,
   "id": "128ea69a",
   "metadata": {},
   "outputs": [],
   "source": [
    "\n",
    "# Load the vocabulary\n",
    "with open(\"Models/vocab.pkl\", \"rb\") as f:\n",
    "    loaded_vocab = pickle.load(f)"
   ]
  },
  {
   "cell_type": "code",
   "execution_count": null,
   "id": "1f9ef6d9",
   "metadata": {},
   "outputs": [],
   "source": []
  },
  {
   "cell_type": "markdown",
   "id": "fd86bbd4",
   "metadata": {},
   "source": [
    "# **Model Prediction**"
   ]
  },
  {
   "cell_type": "code",
   "execution_count": 57,
   "id": "282b22eb",
   "metadata": {},
   "outputs": [],
   "source": [
    "def invert_multi_hot(encoded_labels):\n",
    "    \"\"\"Reverse a single multi-hot encoded label to a tuple of vocab terms.\"\"\"\n",
    "    hot_indices = np.argwhere(encoded_labels == 1.0)[..., 0]\n",
    "    return np.take(loaded_vocab, hot_indices)"
   ]
  },
  {
   "cell_type": "code",
   "execution_count": 58,
   "id": "6278224b",
   "metadata": {},
   "outputs": [],
   "source": [
    "# Define the function to predict categories\n",
    "def predict_category(abstract, model, vectorizer, label_lookup):\n",
    "    # Preprocess the abstract using the loaded text vectorizer\n",
    "    preprocessed_abstract = vectorizer([abstract])\n",
    "    # Make predictions using the loaded model\n",
    "    predictions = model.predict(preprocessed_abstract)\n",
    "    # Post-process predictions\n",
    "    predicted_labels = label_lookup(np.round(predictions).astype(int)[0])\n",
    "    return predicted_labels"
   ]
  },
  {
   "cell_type": "code",
   "execution_count": 59,
   "id": "43c59ef6",
   "metadata": {},
   "outputs": [
    {
     "ename": "FailedPreconditionError",
     "evalue": "Exception encountered when calling layer 'string_lookup_2' (type StringLookup).\n\n{{function_node __wrapped__LookupTableFindV2_device_/job:localhost/replica:0/task:0/device:CPU:0}} Table not initialized. [Op:LookupTableFindV2] name: \n\nCall arguments received by layer 'string_lookup_2' (type StringLookup):\n  • inputs=<tf.RaggedTensor [[b'graph', b'neural', b'networks', b'gnns', b'have', b'been', b'widely',\n  b'used', b'to', b'learn', b'vector', b'representation', b'of',\n  b'graphstructured', b'data', b'and', b'achieved', b'better', b'task',\n  b'performance', b'than', b'conventional', b'methods', b'the',\n  b'foundation', b'of', b'gnns', b'is', b'the', b'message', b'passing',\n  b'procedure', b'which', b'propagates', b'the', b'information', b'in',\n  b'a', b'node', b'to', b'its', b'neighbors', b'since', b'this',\n  b'procedure', b'proceeds', b'one', b'step', b'per', b'layer', b'the',\n  b'range', b'of', b'the', b'information', b'propagation', b'among',\n  b'nodes', b'is', b'small', b'in', b'the', b'lower', b'layers', b'and',\n  b'it', b'expands', b'toward', b'the', b'higher', b'layers',\n  b'therefore', b'a', b'gnn', b'model', b'has', b'to', b'be', b'deep',\n  b'enough', b'to', b'capture', b'global', b'structural', b'information',\n  b'in', b'a', b'graph', b'on', b'the', b'other', b'hand', b'it', b'is',\n  b'known', b'that', b'deep', b'gnn', b'models', b'suffer', b'from',\n  b'performance', b'degradation', b'because', b'they', b'lose', b'nodes',\n  b'local', b'information', b'which', b'would', b'be', b'essential',\n  b'for', b'good', b'model', b'performance', b'through', b'many',\n  b'message', b'passing', b'steps', b'in', b'this', b'study', b'we',\n  b'propose', b'multilevel', b'attention', b'pooling', b'mlap', b'for',\n  b'graphlevel', b'classification', b'tasks', b'which', b'can', b'adapt',\n  b'to', b'both', b'local', b'and', b'global', b'structural',\n  b'information', b'in', b'a', b'graph', b'it', b'has', b'an',\n  b'attention', b'pooling', b'layer', b'for', b'each', b'message',\n  b'passing', b'step', b'and', b'computes', b'the', b'final', b'graph',\n  b'representation', b'by', b'unifying', b'the', b'layerwise', b'graph',\n  b'representations', b'the', b'mlap', b'architecture', b'allows',\n  b'models', b'to', b'utilize', b'the', b'structural', b'information',\n  b'of', b'graphs', b'with', b'multiple', b'levels', b'of', b'localities',\n  b'because', b'it', b'preserves', b'layerwise', b'information',\n  b'before', b'losing', b'them', b'due', b'to', b'oversmoothing',\n  b'results', b'of', b'our', b'experiments', b'show', b'that', b'the',\n  b'mlap', b'architecture', b'improves', b'the', b'graph',\n  b'classification', b'performance', b'compared', b'to', b'the',\n  b'baseline', b'architectures', b'in', b'addition', b'analyses', b'on',\n  b'the', b'layerwise', b'graph', b'representations', b'suggest', b'that',\n  b'aggregating', b'information', b'from', b'multiple', b'levels', b'of',\n  b'localities', b'indeed', b'has', b'the', b'potential', b'to',\n  b'improve', b'the', b'discriminability', b'of', b'learned', b'graph',\n  b'representations', b'graph neural', b'neural networks',\n  b'networks gnns', b'gnns have', b'have been', b'been widely',\n  b'widely used', b'used to', b'to learn', b'learn vector',\n  b'vector representation', b'representation of', b'of graphstructured',\n  b'graphstructured data', b'data and', b'and achieved',\n  b'achieved better', b'better task', b'task performance',\n  b'performance than', b'than conventional', b'conventional methods',\n  b'methods the', b'the foundation', b'foundation of', b'of gnns',\n  b'gnns is', b'is the', b'the message', b'message passing',\n  b'passing procedure', b'procedure which', b'which propagates',\n  b'propagates the', b'the information', b'information in', b'in a',\n  b'a node', b'node to', b'to its', b'its neighbors', b'neighbors since',\n  b'since this', b'this procedure', b'procedure proceeds',\n  b'proceeds one', b'one step', b'step per', b'per layer', b'layer the',\n  b'the range', b'range of', b'of the', b'the information',\n  b'information propagation', b'propagation among', b'among nodes',\n  b'nodes is', b'is small', b'small in', b'in the', b'the lower',\n  b'lower layers', b'layers and', b'and it', b'it expands',\n  b'expands toward', b'toward the', b'the higher', b'higher layers',\n  b'layers therefore', b'therefore a', b'a gnn', b'gnn model',\n  b'model has', b'has to', b'to be', b'be deep', b'deep enough',\n  b'enough to', b'to capture', b'capture global', b'global structural',\n  b'structural information', b'information in', b'in a', b'a graph',\n  b'graph on', b'on the', b'the other', b'other hand', b'hand it',\n  b'it is', b'is known', b'known that', b'that deep', b'deep gnn',\n  b'gnn models', b'models suffer', b'suffer from', b'from performance',\n  b'performance degradation', b'degradation because', b'because they',\n  b'they lose', b'lose nodes', b'nodes local', b'local information',\n  b'information which', b'which would', b'would be', b'be essential',\n  b'essential for', b'for good', b'good model', b'model performance',\n  b'performance through', b'through many', b'many message',\n  b'message passing', b'passing steps', b'steps in', b'in this',\n  b'this study', b'study we', b'we propose', b'propose multilevel',\n  b'multilevel attention', b'attention pooling', b'pooling mlap',\n  b'mlap for', b'for graphlevel', b'graphlevel classification',\n  b'classification tasks', b'tasks which', b'which can', b'can adapt',\n  b'adapt to', b'to both', b'both local', b'local and', b'and global',\n  b'global structural', b'structural information', b'information in',\n  b'in a', b'a graph', b'graph it', b'it has', b'has an', b'an attention',\n  b'attention pooling', b'pooling layer', b'layer for', b'for each',\n  b'each message', b'message passing', b'passing step', b'step and',\n  b'and computes', b'computes the', b'the final', b'final graph',\n  b'graph representation', b'representation by', b'by unifying',\n  b'unifying the', b'the layerwise', b'layerwise graph',\n  b'graph representations', b'representations the', b'the mlap',\n  b'mlap architecture', b'architecture allows', b'allows models',\n  b'models to', b'to utilize', b'utilize the', b'the structural',\n  b'structural information', b'information of', b'of graphs',\n  b'graphs with', b'with multiple', b'multiple levels', b'levels of',\n  b'of localities', b'localities because', b'because it', b'it preserves',\n  b'preserves layerwise', b'layerwise information', b'information before',\n  b'before losing', b'losing them', b'them due', b'due to',\n  b'to oversmoothing', b'oversmoothing results', b'results of', b'of our',\n  b'our experiments', b'experiments show', b'show that', b'that the',\n  b'the mlap', b'mlap architecture', b'architecture improves',\n  b'improves the', b'the graph', b'graph classification',\n  b'classification performance', b'performance compared', b'compared to',\n  b'to the', b'the baseline', b'baseline architectures',\n  b'architectures in', b'in addition', b'addition analyses',\n  b'analyses on', b'on the', b'the layerwise', b'layerwise graph',\n  b'graph representations', b'representations suggest', b'suggest that',\n  b'that aggregating', b'aggregating information', b'information from',\n  b'from multiple', b'multiple levels', b'levels of', b'of localities',\n  b'localities indeed', b'indeed has', b'has the', b'the potential',\n  b'potential to', b'to improve', b'improve the', b'the discriminability',\n  b'discriminability of', b'of learned', b'learned graph',\n  b'graph representations']]>",
     "output_type": "error",
     "traceback": [
      "\u001b[1;31m---------------------------------------------------------------------------\u001b[0m",
      "\u001b[1;31mFailedPreconditionError\u001b[0m                   Traceback (most recent call last)",
      "Cell \u001b[1;32mIn[59], line 3\u001b[0m\n\u001b[0;32m      1\u001b[0m \u001b[38;5;66;03m# Example usage\u001b[39;00m\n\u001b[0;32m      2\u001b[0m new_abstract \u001b[38;5;241m=\u001b[39m \u001b[38;5;124m\"\u001b[39m\u001b[38;5;124mGraph neural networks (GNNs) have been widely used to learn vector\u001b[39m\u001b[38;5;130;01m\\n\u001b[39;00m\u001b[38;5;124mrepresentation of graph-structured data and achieved better task performance\u001b[39m\u001b[38;5;130;01m\\n\u001b[39;00m\u001b[38;5;124mthan conventional methods. The foundation of GNNs is the message passing\u001b[39m\u001b[38;5;130;01m\\n\u001b[39;00m\u001b[38;5;124mprocedure, which propagates the information in a node to its neighbors. Since\u001b[39m\u001b[38;5;130;01m\\n\u001b[39;00m\u001b[38;5;124mthis procedure proceeds one step per layer, the range of the information\u001b[39m\u001b[38;5;130;01m\\n\u001b[39;00m\u001b[38;5;124mpropagation among nodes is small in the lower layers, and it expands toward the\u001b[39m\u001b[38;5;130;01m\\n\u001b[39;00m\u001b[38;5;124mhigher layers. Therefore, a GNN model has to be deep enough to capture global\u001b[39m\u001b[38;5;130;01m\\n\u001b[39;00m\u001b[38;5;124mstructural information in a graph. On the other hand, it is known that deep GNN\u001b[39m\u001b[38;5;130;01m\\n\u001b[39;00m\u001b[38;5;124mmodels suffer from performance degradation because they lose nodes\u001b[39m\u001b[38;5;124m'\u001b[39m\u001b[38;5;124m local\u001b[39m\u001b[38;5;130;01m\\n\u001b[39;00m\u001b[38;5;124minformation, which would be essential for good model performance, through many\u001b[39m\u001b[38;5;130;01m\\n\u001b[39;00m\u001b[38;5;124mmessage passing steps. In this study, we propose multi-level attention pooling\u001b[39m\u001b[38;5;130;01m\\n\u001b[39;00m\u001b[38;5;124m(MLAP) for graph-level classification tasks, which can adapt to both local and\u001b[39m\u001b[38;5;130;01m\\n\u001b[39;00m\u001b[38;5;124mglobal structural information in a graph. It has an attention pooling layer for\u001b[39m\u001b[38;5;130;01m\\n\u001b[39;00m\u001b[38;5;124meach message passing step and computes the final graph representation by\u001b[39m\u001b[38;5;130;01m\\n\u001b[39;00m\u001b[38;5;124munifying the layer-wise graph representations. The MLAP architecture allows\u001b[39m\u001b[38;5;130;01m\\n\u001b[39;00m\u001b[38;5;124mmodels to utilize the structural information of graphs with multiple levels of\u001b[39m\u001b[38;5;130;01m\\n\u001b[39;00m\u001b[38;5;124mlocalities because it preserves layer-wise information before losing them due\u001b[39m\u001b[38;5;130;01m\\n\u001b[39;00m\u001b[38;5;124mto oversmoothing. Results of our experiments show that the MLAP architecture\u001b[39m\u001b[38;5;130;01m\\n\u001b[39;00m\u001b[38;5;124mimproves the graph classification performance compared to the baseline\u001b[39m\u001b[38;5;130;01m\\n\u001b[39;00m\u001b[38;5;124marchitectures. In addition, analyses on the layer-wise graph representations\u001b[39m\u001b[38;5;130;01m\\n\u001b[39;00m\u001b[38;5;124msuggest that aggregating information from multiple levels of localities indeed\u001b[39m\u001b[38;5;130;01m\\n\u001b[39;00m\u001b[38;5;124mhas the potential to improve the discriminability of learned graph\u001b[39m\u001b[38;5;130;01m\\n\u001b[39;00m\u001b[38;5;124mrepresentations.\u001b[39m\u001b[38;5;124m\"\u001b[39m\n\u001b[1;32m----> 3\u001b[0m predicted_categories \u001b[38;5;241m=\u001b[39m predict_category(new_abstract, loaded_model, loaded_text_vectorizer, invert_multi_hot)\n\u001b[0;32m      4\u001b[0m \u001b[38;5;28mprint\u001b[39m(\u001b[38;5;124m\"\u001b[39m\u001b[38;5;124mPredicted Categories:\u001b[39m\u001b[38;5;124m\"\u001b[39m, predicted_categories)\n",
      "Cell \u001b[1;32mIn[58], line 4\u001b[0m, in \u001b[0;36mpredict_category\u001b[1;34m(abstract, model, vectorizer, label_lookup)\u001b[0m\n\u001b[0;32m      2\u001b[0m \u001b[38;5;28;01mdef\u001b[39;00m \u001b[38;5;21mpredict_category\u001b[39m(abstract, model, vectorizer, label_lookup):\n\u001b[0;32m      3\u001b[0m     \u001b[38;5;66;03m# Preprocess the abstract using the loaded text vectorizer\u001b[39;00m\n\u001b[1;32m----> 4\u001b[0m     preprocessed_abstract \u001b[38;5;241m=\u001b[39m vectorizer([abstract])\n\u001b[0;32m      5\u001b[0m     \u001b[38;5;66;03m# Make predictions using the loaded model\u001b[39;00m\n\u001b[0;32m      6\u001b[0m     predictions \u001b[38;5;241m=\u001b[39m model\u001b[38;5;241m.\u001b[39mpredict(preprocessed_abstract)\n",
      "File \u001b[1;32m~\\anaconda3\\Lib\\site-packages\\keras\\src\\utils\\traceback_utils.py:70\u001b[0m, in \u001b[0;36mfilter_traceback.<locals>.error_handler\u001b[1;34m(*args, **kwargs)\u001b[0m\n\u001b[0;32m     67\u001b[0m     filtered_tb \u001b[38;5;241m=\u001b[39m _process_traceback_frames(e\u001b[38;5;241m.\u001b[39m__traceback__)\n\u001b[0;32m     68\u001b[0m     \u001b[38;5;66;03m# To get the full stack trace, call:\u001b[39;00m\n\u001b[0;32m     69\u001b[0m     \u001b[38;5;66;03m# `tf.debugging.disable_traceback_filtering()`\u001b[39;00m\n\u001b[1;32m---> 70\u001b[0m     \u001b[38;5;28;01mraise\u001b[39;00m e\u001b[38;5;241m.\u001b[39mwith_traceback(filtered_tb) \u001b[38;5;28;01mfrom\u001b[39;00m \u001b[38;5;28;01mNone\u001b[39;00m\n\u001b[0;32m     71\u001b[0m \u001b[38;5;28;01mfinally\u001b[39;00m:\n\u001b[0;32m     72\u001b[0m     \u001b[38;5;28;01mdel\u001b[39;00m filtered_tb\n",
      "File \u001b[1;32m~\\anaconda3\\Lib\\site-packages\\keras\\src\\layers\\preprocessing\\index_lookup.py:792\u001b[0m, in \u001b[0;36mIndexLookup._lookup_dense\u001b[1;34m(self, inputs)\u001b[0m\n\u001b[0;32m    790\u001b[0m     lookups \u001b[38;5;241m=\u001b[39m tf\u001b[38;5;241m.\u001b[39mzeros_like(inputs, dtype\u001b[38;5;241m=\u001b[39m\u001b[38;5;28mself\u001b[39m\u001b[38;5;241m.\u001b[39m_value_dtype)\n\u001b[0;32m    791\u001b[0m \u001b[38;5;28;01melse\u001b[39;00m:\n\u001b[1;32m--> 792\u001b[0m     lookups \u001b[38;5;241m=\u001b[39m \u001b[38;5;28mself\u001b[39m\u001b[38;5;241m.\u001b[39mlookup_table\u001b[38;5;241m.\u001b[39mlookup(inputs)\n\u001b[0;32m    794\u001b[0m \u001b[38;5;28;01mif\u001b[39;00m \u001b[38;5;28mself\u001b[39m\u001b[38;5;241m.\u001b[39mmask_token \u001b[38;5;129;01mis\u001b[39;00m \u001b[38;5;129;01mnot\u001b[39;00m \u001b[38;5;28;01mNone\u001b[39;00m:\n\u001b[0;32m    795\u001b[0m     mask_locations \u001b[38;5;241m=\u001b[39m tf\u001b[38;5;241m.\u001b[39mequal(inputs, \u001b[38;5;28mself\u001b[39m\u001b[38;5;241m.\u001b[39m_mask_key)\n",
      "\u001b[1;31mFailedPreconditionError\u001b[0m: Exception encountered when calling layer 'string_lookup_2' (type StringLookup).\n\n{{function_node __wrapped__LookupTableFindV2_device_/job:localhost/replica:0/task:0/device:CPU:0}} Table not initialized. [Op:LookupTableFindV2] name: \n\nCall arguments received by layer 'string_lookup_2' (type StringLookup):\n  • inputs=<tf.RaggedTensor [[b'graph', b'neural', b'networks', b'gnns', b'have', b'been', b'widely',\n  b'used', b'to', b'learn', b'vector', b'representation', b'of',\n  b'graphstructured', b'data', b'and', b'achieved', b'better', b'task',\n  b'performance', b'than', b'conventional', b'methods', b'the',\n  b'foundation', b'of', b'gnns', b'is', b'the', b'message', b'passing',\n  b'procedure', b'which', b'propagates', b'the', b'information', b'in',\n  b'a', b'node', b'to', b'its', b'neighbors', b'since', b'this',\n  b'procedure', b'proceeds', b'one', b'step', b'per', b'layer', b'the',\n  b'range', b'of', b'the', b'information', b'propagation', b'among',\n  b'nodes', b'is', b'small', b'in', b'the', b'lower', b'layers', b'and',\n  b'it', b'expands', b'toward', b'the', b'higher', b'layers',\n  b'therefore', b'a', b'gnn', b'model', b'has', b'to', b'be', b'deep',\n  b'enough', b'to', b'capture', b'global', b'structural', b'information',\n  b'in', b'a', b'graph', b'on', b'the', b'other', b'hand', b'it', b'is',\n  b'known', b'that', b'deep', b'gnn', b'models', b'suffer', b'from',\n  b'performance', b'degradation', b'because', b'they', b'lose', b'nodes',\n  b'local', b'information', b'which', b'would', b'be', b'essential',\n  b'for', b'good', b'model', b'performance', b'through', b'many',\n  b'message', b'passing', b'steps', b'in', b'this', b'study', b'we',\n  b'propose', b'multilevel', b'attention', b'pooling', b'mlap', b'for',\n  b'graphlevel', b'classification', b'tasks', b'which', b'can', b'adapt',\n  b'to', b'both', b'local', b'and', b'global', b'structural',\n  b'information', b'in', b'a', b'graph', b'it', b'has', b'an',\n  b'attention', b'pooling', b'layer', b'for', b'each', b'message',\n  b'passing', b'step', b'and', b'computes', b'the', b'final', b'graph',\n  b'representation', b'by', b'unifying', b'the', b'layerwise', b'graph',\n  b'representations', b'the', b'mlap', b'architecture', b'allows',\n  b'models', b'to', b'utilize', b'the', b'structural', b'information',\n  b'of', b'graphs', b'with', b'multiple', b'levels', b'of', b'localities',\n  b'because', b'it', b'preserves', b'layerwise', b'information',\n  b'before', b'losing', b'them', b'due', b'to', b'oversmoothing',\n  b'results', b'of', b'our', b'experiments', b'show', b'that', b'the',\n  b'mlap', b'architecture', b'improves', b'the', b'graph',\n  b'classification', b'performance', b'compared', b'to', b'the',\n  b'baseline', b'architectures', b'in', b'addition', b'analyses', b'on',\n  b'the', b'layerwise', b'graph', b'representations', b'suggest', b'that',\n  b'aggregating', b'information', b'from', b'multiple', b'levels', b'of',\n  b'localities', b'indeed', b'has', b'the', b'potential', b'to',\n  b'improve', b'the', b'discriminability', b'of', b'learned', b'graph',\n  b'representations', b'graph neural', b'neural networks',\n  b'networks gnns', b'gnns have', b'have been', b'been widely',\n  b'widely used', b'used to', b'to learn', b'learn vector',\n  b'vector representation', b'representation of', b'of graphstructured',\n  b'graphstructured data', b'data and', b'and achieved',\n  b'achieved better', b'better task', b'task performance',\n  b'performance than', b'than conventional', b'conventional methods',\n  b'methods the', b'the foundation', b'foundation of', b'of gnns',\n  b'gnns is', b'is the', b'the message', b'message passing',\n  b'passing procedure', b'procedure which', b'which propagates',\n  b'propagates the', b'the information', b'information in', b'in a',\n  b'a node', b'node to', b'to its', b'its neighbors', b'neighbors since',\n  b'since this', b'this procedure', b'procedure proceeds',\n  b'proceeds one', b'one step', b'step per', b'per layer', b'layer the',\n  b'the range', b'range of', b'of the', b'the information',\n  b'information propagation', b'propagation among', b'among nodes',\n  b'nodes is', b'is small', b'small in', b'in the', b'the lower',\n  b'lower layers', b'layers and', b'and it', b'it expands',\n  b'expands toward', b'toward the', b'the higher', b'higher layers',\n  b'layers therefore', b'therefore a', b'a gnn', b'gnn model',\n  b'model has', b'has to', b'to be', b'be deep', b'deep enough',\n  b'enough to', b'to capture', b'capture global', b'global structural',\n  b'structural information', b'information in', b'in a', b'a graph',\n  b'graph on', b'on the', b'the other', b'other hand', b'hand it',\n  b'it is', b'is known', b'known that', b'that deep', b'deep gnn',\n  b'gnn models', b'models suffer', b'suffer from', b'from performance',\n  b'performance degradation', b'degradation because', b'because they',\n  b'they lose', b'lose nodes', b'nodes local', b'local information',\n  b'information which', b'which would', b'would be', b'be essential',\n  b'essential for', b'for good', b'good model', b'model performance',\n  b'performance through', b'through many', b'many message',\n  b'message passing', b'passing steps', b'steps in', b'in this',\n  b'this study', b'study we', b'we propose', b'propose multilevel',\n  b'multilevel attention', b'attention pooling', b'pooling mlap',\n  b'mlap for', b'for graphlevel', b'graphlevel classification',\n  b'classification tasks', b'tasks which', b'which can', b'can adapt',\n  b'adapt to', b'to both', b'both local', b'local and', b'and global',\n  b'global structural', b'structural information', b'information in',\n  b'in a', b'a graph', b'graph it', b'it has', b'has an', b'an attention',\n  b'attention pooling', b'pooling layer', b'layer for', b'for each',\n  b'each message', b'message passing', b'passing step', b'step and',\n  b'and computes', b'computes the', b'the final', b'final graph',\n  b'graph representation', b'representation by', b'by unifying',\n  b'unifying the', b'the layerwise', b'layerwise graph',\n  b'graph representations', b'representations the', b'the mlap',\n  b'mlap architecture', b'architecture allows', b'allows models',\n  b'models to', b'to utilize', b'utilize the', b'the structural',\n  b'structural information', b'information of', b'of graphs',\n  b'graphs with', b'with multiple', b'multiple levels', b'levels of',\n  b'of localities', b'localities because', b'because it', b'it preserves',\n  b'preserves layerwise', b'layerwise information', b'information before',\n  b'before losing', b'losing them', b'them due', b'due to',\n  b'to oversmoothing', b'oversmoothing results', b'results of', b'of our',\n  b'our experiments', b'experiments show', b'show that', b'that the',\n  b'the mlap', b'mlap architecture', b'architecture improves',\n  b'improves the', b'the graph', b'graph classification',\n  b'classification performance', b'performance compared', b'compared to',\n  b'to the', b'the baseline', b'baseline architectures',\n  b'architectures in', b'in addition', b'addition analyses',\n  b'analyses on', b'on the', b'the layerwise', b'layerwise graph',\n  b'graph representations', b'representations suggest', b'suggest that',\n  b'that aggregating', b'aggregating information', b'information from',\n  b'from multiple', b'multiple levels', b'levels of', b'of localities',\n  b'localities indeed', b'indeed has', b'has the', b'the potential',\n  b'potential to', b'to improve', b'improve the', b'the discriminability',\n  b'discriminability of', b'of learned', b'learned graph',\n  b'graph representations']]>"
     ]
    }
   ],
   "source": [
    "# Example usage\n",
    "new_abstract = \"Graph neural networks (GNNs) have been widely used to learn vector\\nrepresentation of graph-structured data and achieved better task performance\\nthan conventional methods. The foundation of GNNs is the message passing\\nprocedure, which propagates the information in a node to its neighbors. Since\\nthis procedure proceeds one step per layer, the range of the information\\npropagation among nodes is small in the lower layers, and it expands toward the\\nhigher layers. Therefore, a GNN model has to be deep enough to capture global\\nstructural information in a graph. On the other hand, it is known that deep GNN\\nmodels suffer from performance degradation because they lose nodes' local\\ninformation, which would be essential for good model performance, through many\\nmessage passing steps. In this study, we propose multi-level attention pooling\\n(MLAP) for graph-level classification tasks, which can adapt to both local and\\nglobal structural information in a graph. It has an attention pooling layer for\\neach message passing step and computes the final graph representation by\\nunifying the layer-wise graph representations. The MLAP architecture allows\\nmodels to utilize the structural information of graphs with multiple levels of\\nlocalities because it preserves layer-wise information before losing them due\\nto oversmoothing. Results of our experiments show that the MLAP architecture\\nimproves the graph classification performance compared to the baseline\\narchitectures. In addition, analyses on the layer-wise graph representations\\nsuggest that aggregating information from multiple levels of localities indeed\\nhas the potential to improve the discriminability of learned graph\\nrepresentations.\"\n",
    "predicted_categories = predict_category(new_abstract, loaded_model, loaded_text_vectorizer, invert_multi_hot)\n",
    "print(\"Predicted Categories:\", predicted_categories)"
   ]
  },
  {
   "cell_type": "code",
   "execution_count": 60,
   "id": "9d182356",
   "metadata": {},
   "outputs": [
    {
     "data": {
      "text/plain": [
       "\"Graph neural networks (GNNs) have been widely used to learn vector\\r\\nrepresentation of graph-structured data and achieved better task performance\\r\\nthan conventional methods. The foundation of GNNs is the message passing\\r\\nprocedure, which propagates the information in a node to its neighbors. Since\\r\\nthis procedure proceeds one step per layer, the range of the information\\r\\npropagation among nodes is small in the lower layers, and it expands toward the\\r\\nhigher layers. Therefore, a GNN model has to be deep enough to capture global\\r\\nstructural information in a graph. On the other hand, it is known that deep GNN\\r\\nmodels suffer from performance degradation because they lose nodes' local\\r\\ninformation, which would be essential for good model performance, through many\\r\\nmessage passing steps. In this study, we propose multi-level attention pooling\\r\\n(MLAP) for graph-level classification tasks, which can adapt to both local and\\r\\nglobal structural information in a graph. It has an attention pooling layer for\\r\\neach message passing step and computes the final graph representation by\\r\\nunifying the layer-wise graph representations. The MLAP architecture allows\\r\\nmodels to utilize the structural information of graphs with multiple levels of\\r\\nlocalities because it preserves layer-wise information before losing them due\\r\\nto oversmoothing. Results of our experiments show that the MLAP architecture\\r\\nimproves the graph classification performance compared to the baseline\\r\\narchitectures. In addition, analyses on the layer-wise graph representations\\r\\nsuggest that aggregating information from multiple levels of localities indeed\\r\\nhas the potential to improve the discriminability of learned graph\\r\\nrepresentations.\""
      ]
     },
     "execution_count": 60,
     "metadata": {},
     "output_type": "execute_result"
    }
   ],
   "source": [
    "arxiv_data['abstracts'][0]"
   ]
  },
  {
   "cell_type": "markdown",
   "id": "3e6ff29b",
   "metadata": {},
   "source": [
    "# ** =======Section 2========**"
   ]
  },
  {
   "cell_type": "markdown",
   "id": "d2b38235",
   "metadata": {},
   "source": [
    "# **Recommendation System**"
   ]
  },
  {
   "cell_type": "code",
   "execution_count": 5,
   "id": "c9d9830f",
   "metadata": {},
   "outputs": [],
   "source": [
    "arxiv_data.drop(columns = [\"terms\",\"abstracts\"], inplace = True)"
   ]
  },
  {
   "cell_type": "code",
   "execution_count": 6,
   "id": "0ad83770",
   "metadata": {},
   "outputs": [
    {
     "data": {
      "text/html": [
       "<div>\n",
       "<style scoped>\n",
       "    .dataframe tbody tr th:only-of-type {\n",
       "        vertical-align: middle;\n",
       "    }\n",
       "\n",
       "    .dataframe tbody tr th {\n",
       "        vertical-align: top;\n",
       "    }\n",
       "\n",
       "    .dataframe thead th {\n",
       "        text-align: right;\n",
       "    }\n",
       "</style>\n",
       "<table border=\"1\" class=\"dataframe\">\n",
       "  <thead>\n",
       "    <tr style=\"text-align: right;\">\n",
       "      <th></th>\n",
       "      <th>titles</th>\n",
       "    </tr>\n",
       "  </thead>\n",
       "  <tbody>\n",
       "    <tr>\n",
       "      <th>0</th>\n",
       "      <td>Multi-Level Attention Pooling for Graph Neural...</td>\n",
       "    </tr>\n",
       "    <tr>\n",
       "      <th>1</th>\n",
       "      <td>Decision Forests vs. Deep Networks: Conceptual...</td>\n",
       "    </tr>\n",
       "    <tr>\n",
       "      <th>2</th>\n",
       "      <td>Power up! Robust Graph Convolutional Network v...</td>\n",
       "    </tr>\n",
       "    <tr>\n",
       "      <th>3</th>\n",
       "      <td>Releasing Graph Neural Networks with Different...</td>\n",
       "    </tr>\n",
       "    <tr>\n",
       "      <th>4</th>\n",
       "      <td>Recurrence-Aware Long-Term Cognitive Network f...</td>\n",
       "    </tr>\n",
       "    <tr>\n",
       "      <th>...</th>\n",
       "      <td>...</td>\n",
       "    </tr>\n",
       "    <tr>\n",
       "      <th>56176</th>\n",
       "      <td>Mining Spatio-temporal Data on Industrializati...</td>\n",
       "    </tr>\n",
       "    <tr>\n",
       "      <th>56177</th>\n",
       "      <td>Wav2Letter: an End-to-End ConvNet-based Speech...</td>\n",
       "    </tr>\n",
       "    <tr>\n",
       "      <th>56178</th>\n",
       "      <td>Deep Reinforcement Learning with Double Q-lear...</td>\n",
       "    </tr>\n",
       "    <tr>\n",
       "      <th>56179</th>\n",
       "      <td>Generalized Low Rank Models</td>\n",
       "    </tr>\n",
       "    <tr>\n",
       "      <th>56180</th>\n",
       "      <td>Chi-square Tests Driven Method for Learning th...</td>\n",
       "    </tr>\n",
       "  </tbody>\n",
       "</table>\n",
       "<p>56181 rows × 1 columns</p>\n",
       "</div>"
      ],
      "text/plain": [
       "                                                  titles\n",
       "0      Multi-Level Attention Pooling for Graph Neural...\n",
       "1      Decision Forests vs. Deep Networks: Conceptual...\n",
       "2      Power up! Robust Graph Convolutional Network v...\n",
       "3      Releasing Graph Neural Networks with Different...\n",
       "4      Recurrence-Aware Long-Term Cognitive Network f...\n",
       "...                                                  ...\n",
       "56176  Mining Spatio-temporal Data on Industrializati...\n",
       "56177  Wav2Letter: an End-to-End ConvNet-based Speech...\n",
       "56178  Deep Reinforcement Learning with Double Q-lear...\n",
       "56179                        Generalized Low Rank Models\n",
       "56180  Chi-square Tests Driven Method for Learning th...\n",
       "\n",
       "[56181 rows x 1 columns]"
      ]
     },
     "execution_count": 6,
     "metadata": {},
     "output_type": "execute_result"
    }
   ],
   "source": [
    "arxiv_data"
   ]
  },
  {
   "cell_type": "code",
   "execution_count": null,
   "id": "97f8e3d4",
   "metadata": {},
   "outputs": [],
   "source": []
  },
  {
   "cell_type": "markdown",
   "id": "056f3632",
   "metadata": {},
   "source": [
    "# **Sentence Transformers**"
   ]
  },
  {
   "cell_type": "code",
   "execution_count": 7,
   "id": "13b65715",
   "metadata": {},
   "outputs": [
    {
     "name": "stderr",
     "output_type": "stream",
     "text": [
      "C:\\Users\\ASUS\\anaconda3\\Lib\\site-packages\\sentence_transformers\\cross_encoder\\CrossEncoder.py:11: TqdmExperimentalWarning: Using `tqdm.autonotebook.tqdm` in notebook mode. Use `tqdm.tqdm` instead to force console mode (e.g. in jupyter console)\n",
      "  from tqdm.autonotebook import tqdm, trange\n"
     ]
    }
   ],
   "source": [
    "from sentence_transformers import SentenceTransformer,util"
   ]
  },
  {
   "cell_type": "code",
   "execution_count": 8,
   "id": "d0e3c301",
   "metadata": {},
   "outputs": [],
   "source": [
    "model = SentenceTransformer('all-MiniLM-L6-v2')"
   ]
  },
  {
   "cell_type": "code",
   "execution_count": 9,
   "id": "4aa10c95",
   "metadata": {},
   "outputs": [],
   "source": [
    "sentences = arxiv_data['titles']"
   ]
  },
  {
   "cell_type": "code",
   "execution_count": 10,
   "id": "ae7cde06",
   "metadata": {},
   "outputs": [],
   "source": [
    "embeddings = model.encode(sentences)"
   ]
  },
  {
   "cell_type": "code",
   "execution_count": 11,
   "id": "f83d5ad4",
   "metadata": {},
   "outputs": [
    {
     "data": {
      "text/plain": [
       "array([[ 0.06643412, -0.04954597,  0.06388088, ...,  0.00106303,\n",
       "        -0.1215638 , -0.06962783],\n",
       "       [ 0.09212257, -0.07606944,  0.06572863, ..., -0.08565164,\n",
       "        -0.09266546,  0.00725291],\n",
       "       [-0.08162688,  0.02428937,  0.01888741, ...,  0.00806161,\n",
       "        -0.05129534, -0.05874001],\n",
       "       ...,\n",
       "       [-0.09695333,  0.00057092,  0.07726484, ..., -0.01443817,\n",
       "        -0.04748217,  0.06130559],\n",
       "       [ 0.00768869, -0.10124185,  0.08909854, ..., -0.08199864,\n",
       "        -0.05649742,  0.09007055],\n",
       "       [ 0.06078521, -0.08312804, -0.00907777, ..., -0.0314818 ,\n",
       "         0.05713108,  0.05696886]], dtype=float32)"
      ]
     },
     "execution_count": 11,
     "metadata": {},
     "output_type": "execute_result"
    }
   ],
   "source": [
    "embeddings"
   ]
  },
  {
   "cell_type": "code",
   "execution_count": 12,
   "id": "36eafd0c",
   "metadata": {},
   "outputs": [
    {
     "data": {
      "text/plain": [
       "(56181, 384)"
      ]
     },
     "execution_count": 12,
     "metadata": {},
     "output_type": "execute_result"
    }
   ],
   "source": [
    "embeddings.shape"
   ]
  },
  {
   "cell_type": "markdown",
   "id": "f7ac5188",
   "metadata": {},
   "source": [
    "# **Print the embeddings**"
   ]
  },
  {
   "cell_type": "code",
   "execution_count": 13,
   "id": "1eb976d4",
   "metadata": {},
   "outputs": [
    {
     "name": "stdout",
     "output_type": "stream",
     "text": [
      "Sentence: Multi-Level Attention Pooling for Graph Neural Networks: Unifying Graph Representations with Multiple Localities\n",
      "Embedding length: 384\n",
      "\n",
      "Sentence: Decision Forests vs. Deep Networks: Conceptual Similarities and Empirical Differences at Small Sample Sizes\n",
      "Embedding length: 384\n",
      "\n",
      "Sentence: Power up! Robust Graph Convolutional Network via Graph Powering\n",
      "Embedding length: 384\n",
      "\n",
      "Sentence: Releasing Graph Neural Networks with Differential Privacy Guarantees\n",
      "Embedding length: 384\n",
      "\n",
      "Sentence: Recurrence-Aware Long-Term Cognitive Network for Explainable Pattern Classification\n",
      "Embedding length: 384\n",
      "\n",
      "Sentence: Lifelong Graph Learning\n",
      "Embedding length: 384\n",
      "\n"
     ]
    }
   ],
   "source": [
    "c=0\n",
    "\n",
    "for sentence,embedding in zip(sentences,embeddings):\n",
    "    print(\"Sentence:\", sentence)\n",
    "    print(\"Embedding length:\", len(embedding)) # list of floats\n",
    "    print(\"\")\n",
    "    if c>=5:\n",
    "        break\n",
    "    c+=1"
   ]
  },
  {
   "cell_type": "markdown",
   "id": "a78fc789",
   "metadata": {},
   "source": [
    "# **Save files**"
   ]
  },
  {
   "cell_type": "code",
   "execution_count": 14,
   "id": "b79c045e",
   "metadata": {},
   "outputs": [],
   "source": [
    "import pickle\n",
    "\n",
    "with open(\"Models/embeddings.pkl\",'wb') as f:\n",
    "    pickle.dump(embeddings,f)\n",
    "    \n",
    "with open('Models/sentences.pkl', 'wb') as f:\n",
    "    pickle.dump(sentences, f)\n",
    "    \n",
    "with open('Models/rec_model.pkl', 'wb') as f:\n",
    "    pickle.dump(model, f)"
   ]
  },
  {
   "cell_type": "markdown",
   "id": "5d1ad793",
   "metadata": {},
   "source": [
    "# **Recommendation for similar papers**"
   ]
  },
  {
   "cell_type": "code",
   "execution_count": 15,
   "id": "1adb2efb",
   "metadata": {},
   "outputs": [],
   "source": [
    "# load save files\n",
    "embeddings = pickle.load(open('Models/embeddings.pkl','rb'))\n",
    "sentences = pickle.load(open('Models/sentences.pkl','rb'))\n",
    "rec_model = pickle.load(open('Models/rec_model.pkl','rb'))"
   ]
  },
  {
   "cell_type": "code",
   "execution_count": 16,
   "id": "5dfaeb9f",
   "metadata": {},
   "outputs": [],
   "source": [
    "import torch\n",
    "\n",
    "def recommendation(input_paper):\n",
    "    # Calculate cosine similarity scores between the embeddings of input_paper and all papers in the dataset.\n",
    "    cosine_scores = util.cos_sim(embeddings, rec_model.encode(input_paper))\n",
    "    \n",
    "    # Get the indices of the top-k most similar papers based on cosine similarity.\n",
    "    top_similar_papers = torch.topk(cosine_scores, dim=0, k=5, sorted=True)\n",
    "                                 \n",
    "    # Retrieve the titles of the top similar papers.\n",
    "    papers_list = []\n",
    "    for i in top_similar_papers.indices:\n",
    "        papers_list.append(sentences[i.item()])\n",
    "    \n",
    "    return papers_list\n",
    "    "
   ]
  },
  {
   "cell_type": "code",
   "execution_count": 17,
   "id": "09ed8304",
   "metadata": {},
   "outputs": [
    {
     "name": "stdout",
     "output_type": "stream",
     "text": [
      "Enter the title of any paper you like attention is all you need\n",
      "We recommend to read this paper............\n",
      "=============================================\n",
      "Attention that does not Explain Away\n",
      "Attention that does not Explain Away\n",
      "Attention that does not Explain Away\n",
      "Area Attention\n",
      "Area Attention\n"
     ]
    }
   ],
   "source": [
    "# exampel usage 1: (use this paper as input (BERT: Pre-training of Deep Bidirectional Transformers for Language Understanding))\n",
    "# exampel usage 2: (use this paper as input (Review of deep learning: concepts, CNN architectures, challenges, applications, future directions))\n",
    "\n",
    "input_paper = input(\"Enter the title of any paper you like \")\n",
    "\n",
    "recommend_papers = recommendation(input_paper)\n",
    "\n",
    "\n",
    "print(\"We recommend to read this paper............\")\n",
    "print(\"=============================================\")\n",
    "for paper in recommend_papers:\n",
    "    print(paper)"
   ]
  },
  {
   "cell_type": "code",
   "execution_count": null,
   "id": "1a8ff11c",
   "metadata": {},
   "outputs": [],
   "source": []
  }
 ],
 "metadata": {
  "kernelspec": {
   "display_name": "Python 3 (ipykernel)",
   "language": "python",
   "name": "python3"
  },
  "language_info": {
   "codemirror_mode": {
    "name": "ipython",
    "version": 3
   },
   "file_extension": ".py",
   "mimetype": "text/x-python",
   "name": "python",
   "nbconvert_exporter": "python",
   "pygments_lexer": "ipython3",
   "version": "3.11.5"
  }
 },
 "nbformat": 4,
 "nbformat_minor": 5
}
